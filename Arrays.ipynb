{
 "cells": [
  {
   "cell_type": "code",
   "execution_count": 1,
   "id": "99297a36-6e2b-40cd-a883-94f9981c9822",
   "metadata": {},
   "outputs": [],
   "source": [
    "import numpy as np"
   ]
  },
  {
   "cell_type": "code",
   "execution_count": 2,
   "id": "490157f1-4c53-4ff6-9424-48e3ba9dfaeb",
   "metadata": {},
   "outputs": [],
   "source": [
    "myList = [2,4,6]"
   ]
  },
  {
   "cell_type": "code",
   "execution_count": 3,
   "id": "a7138d4f-f088-4ce3-9e9d-390163335c54",
   "metadata": {},
   "outputs": [
    {
     "data": {
      "text/plain": [
       "list"
      ]
     },
     "execution_count": 3,
     "metadata": {},
     "output_type": "execute_result"
    }
   ],
   "source": [
    "type(myList)"
   ]
  },
  {
   "cell_type": "code",
   "execution_count": 4,
   "id": "e984075c-515d-4846-8acc-fbd7cf704198",
   "metadata": {},
   "outputs": [
    {
     "data": {
      "text/plain": [
       "array([2, 4, 6])"
      ]
     },
     "execution_count": 4,
     "metadata": {},
     "output_type": "execute_result"
    }
   ],
   "source": [
    "np.array(myList)"
   ]
  },
  {
   "cell_type": "code",
   "execution_count": 7,
   "id": "12e214af-7c22-46a5-a78a-f3d30fe7be82",
   "metadata": {},
   "outputs": [
    {
     "data": {
      "text/plain": [
       "numpy.ndarray"
      ]
     },
     "execution_count": 7,
     "metadata": {},
     "output_type": "execute_result"
    }
   ],
   "source": [
    "myArr = np.array(myList)\n",
    "type(myArr)"
   ]
  },
  {
   "cell_type": "code",
   "execution_count": 6,
   "id": "4a7df57c-4337-45c8-80b3-73ff6a225c11",
   "metadata": {},
   "outputs": [
    {
     "data": {
      "text/plain": [
       "[2, 4, 6]"
      ]
     },
     "execution_count": 6,
     "metadata": {},
     "output_type": "execute_result"
    }
   ],
   "source": [
    "myList"
   ]
  },
  {
   "cell_type": "markdown",
   "id": "143c5917-a5f3-4bd0-9040-a1703fc91e16",
   "metadata": {},
   "source": [
    "## 2-D array "
   ]
  },
  {
   "cell_type": "code",
   "execution_count": 8,
   "id": "9d5f190f-e6dd-48ac-b455-fc09ce136308",
   "metadata": {},
   "outputs": [],
   "source": [
    "my_matrix = [[1,2,3],[4,5,6],[7,8,9]]"
   ]
  },
  {
   "cell_type": "code",
   "execution_count": 9,
   "id": "5d01f971-81e8-4e89-9a23-3b4e80932c95",
   "metadata": {},
   "outputs": [
    {
     "data": {
      "text/plain": [
       "[[1, 2, 3], [4, 5, 6], [7, 8, 9]]"
      ]
     },
     "execution_count": 9,
     "metadata": {},
     "output_type": "execute_result"
    }
   ],
   "source": [
    "my_matrix"
   ]
  },
  {
   "cell_type": "code",
   "execution_count": 22,
   "id": "ce70b146-a053-47da-a3dd-53982b417a17",
   "metadata": {},
   "outputs": [],
   "source": [
    "a = np.array([[1,2,3],[4,5,6],[7,8,9]])"
   ]
  },
  {
   "cell_type": "code",
   "execution_count": 24,
   "id": "64bfb824-e107-41a5-b855-d7d68b00d5be",
   "metadata": {},
   "outputs": [
    {
     "data": {
      "text/plain": [
       "2"
      ]
     },
     "execution_count": 24,
     "metadata": {},
     "output_type": "execute_result"
    }
   ],
   "source": [
    "a.ndim\n",
    "# NumPy Arrays provides the ndim attribute that returns an integer that tells us how many dimensions the array have."
   ]
  },
  {
   "cell_type": "code",
   "execution_count": 10,
   "id": "a5e198f6-49ae-4f8c-89e5-c1316c562f3a",
   "metadata": {},
   "outputs": [
    {
     "data": {
      "text/plain": [
       "array([[1, 2, 3],\n",
       "       [4, 5, 6],\n",
       "       [7, 8, 9]])"
      ]
     },
     "execution_count": 10,
     "metadata": {},
     "output_type": "execute_result"
    }
   ],
   "source": [
    "np.array(my_matrix)"
   ]
  },
  {
   "cell_type": "code",
   "execution_count": 13,
   "id": "7ac26654-b68d-44e9-9dea-a8dfd943a485",
   "metadata": {},
   "outputs": [
    {
     "data": {
      "text/plain": [
       "array([0. , 0.5, 1. , 1.5, 2. , 2.5, 3. , 3.5, 4. , 4.5, 5. , 5.5, 6. ,\n",
       "       6.5, 7. , 7.5, 8. , 8.5, 9. , 9.5])"
      ]
     },
     "execution_count": 13,
     "metadata": {},
     "output_type": "execute_result"
    }
   ],
   "source": [
    "np.arange(0,10,)"
   ]
  },
  {
   "cell_type": "code",
   "execution_count": null,
   "id": "28c7119e-6d08-47f7-9bae-053deab698a8",
   "metadata": {},
   "outputs": [],
   "source": []
  },
  {
   "cell_type": "markdown",
   "id": "3ae04562-8551-4dd6-92da-ca8575247c96",
   "metadata": {},
   "source": [
    "**.arange()**"
   ]
  },
  {
   "cell_type": "code",
   "execution_count": 36,
   "id": "c3ff664a-3157-407f-82f4-ab02d8fe90e9",
   "metadata": {},
   "outputs": [
    {
     "data": {
      "text/plain": [
       "array([0, 2, 4, 6, 8])"
      ]
     },
     "execution_count": 36,
     "metadata": {},
     "output_type": "execute_result"
    }
   ],
   "source": [
    "np.arange(0,10,2)\n",
    "\n",
    "# not including the end"
   ]
  },
  {
   "cell_type": "markdown",
   "id": "8dc333e4-dd43-4dde-8c83-25c6c2b5aa00",
   "metadata": {},
   "source": [
    "**.zeros()**"
   ]
  },
  {
   "cell_type": "code",
   "execution_count": 15,
   "id": "63d01e7b-623d-4402-a15f-3f8d98e56431",
   "metadata": {},
   "outputs": [
    {
     "data": {
      "text/plain": [
       "array([0., 0., 0., 0., 0.])"
      ]
     },
     "execution_count": 15,
     "metadata": {},
     "output_type": "execute_result"
    }
   ],
   "source": [
    "np.zeros(5)"
   ]
  },
  {
   "cell_type": "code",
   "execution_count": 29,
   "id": "588baa85-5314-4ed1-b7a1-97f66ceaea1a",
   "metadata": {},
   "outputs": [],
   "source": [
    "a = np.zeros((2,4))\n",
    "# the first number is rows\n",
    "# the second number is column"
   ]
  },
  {
   "cell_type": "code",
   "execution_count": 30,
   "id": "2d200638-c1e4-4815-85b4-c488297f7a6a",
   "metadata": {},
   "outputs": [
    {
     "data": {
      "text/plain": [
       "array([[0., 0., 0., 0.],\n",
       "       [0., 0., 0., 0.]])"
      ]
     },
     "execution_count": 30,
     "metadata": {},
     "output_type": "execute_result"
    }
   ],
   "source": [
    "a"
   ]
  },
  {
   "cell_type": "code",
   "execution_count": 31,
   "id": "c95bcbfe-b1b2-4407-a988-412e17b101e0",
   "metadata": {},
   "outputs": [
    {
     "data": {
      "text/plain": [
       "2"
      ]
     },
     "execution_count": 31,
     "metadata": {},
     "output_type": "execute_result"
    }
   ],
   "source": [
    "a.ndim"
   ]
  },
  {
   "cell_type": "markdown",
   "id": "bb54dd7d-ce15-435c-8d97-691881367015",
   "metadata": {},
   "source": [
    "**.ones()**"
   ]
  },
  {
   "cell_type": "code",
   "execution_count": 32,
   "id": "f00c43c7-ca47-4c26-85c3-4a8efbe02180",
   "metadata": {},
   "outputs": [
    {
     "data": {
      "text/plain": [
       "array([1., 1., 1., 1., 1.])"
      ]
     },
     "execution_count": 32,
     "metadata": {},
     "output_type": "execute_result"
    }
   ],
   "source": [
    "np.ones(5)"
   ]
  },
  {
   "cell_type": "code",
   "execution_count": 33,
   "id": "6353913e-7b36-4a70-95a8-9708f9b5680a",
   "metadata": {},
   "outputs": [
    {
     "data": {
      "text/plain": [
       "array([[1., 1., 1., 1., 1.],\n",
       "       [1., 1., 1., 1., 1.]])"
      ]
     },
     "execution_count": 33,
     "metadata": {},
     "output_type": "execute_result"
    }
   ],
   "source": [
    "np.ones((2,5))"
   ]
  },
  {
   "cell_type": "markdown",
   "id": "04863bd1-a87a-4dc6-a71f-8b722fe1fcf7",
   "metadata": {},
   "source": [
    "**.linspace**"
   ]
  },
  {
   "cell_type": "code",
   "execution_count": 34,
   "id": "0afa7c27-6efe-41c8-9def-907a03ffe62f",
   "metadata": {},
   "outputs": [
    {
     "data": {
      "text/plain": [
       "array([ 0.,  5., 10.])"
      ]
     },
     "execution_count": 34,
     "metadata": {},
     "output_type": "execute_result"
    }
   ],
   "source": [
    "np.linspace(0,10,3)\n",
    "\n",
    "# the first number is start\n",
    "# the second number is including end\n",
    "# the third number is the evenly spaced number"
   ]
  },
  {
   "cell_type": "code",
   "execution_count": 35,
   "id": "f016606b-9bf0-478e-bb04-73241fa7f4fc",
   "metadata": {},
   "outputs": [
    {
     "data": {
      "text/plain": [
       "array([ 0.        ,  1.11111111,  2.22222222,  3.33333333,  4.44444444,\n",
       "        5.55555556,  6.66666667,  7.77777778,  8.88888889, 10.        ])"
      ]
     },
     "execution_count": 35,
     "metadata": {},
     "output_type": "execute_result"
    }
   ],
   "source": [
    "np.linspace(0,10,10)"
   ]
  },
  {
   "cell_type": "markdown",
   "id": "26ff4043-84be-43ba-9d7c-539a07c4292a",
   "metadata": {},
   "source": [
    "**.eye()**"
   ]
  },
  {
   "cell_type": "code",
   "execution_count": 37,
   "id": "0f36bfcc-b846-4658-8fa3-62afd348661b",
   "metadata": {},
   "outputs": [
    {
     "data": {
      "text/plain": [
       "array([[1., 0., 0., 0.],\n",
       "       [0., 1., 0., 0.],\n",
       "       [0., 0., 1., 0.],\n",
       "       [0., 0., 0., 1.]])"
      ]
     },
     "execution_count": 37,
     "metadata": {},
     "output_type": "execute_result"
    }
   ],
   "source": [
    "np.eye(4)"
   ]
  },
  {
   "cell_type": "markdown",
   "id": "0929f5ef-11b2-475f-a3fa-388fafa73439",
   "metadata": {},
   "source": [
    "## random"
   ]
  },
  {
   "cell_type": "code",
   "execution_count": 38,
   "id": "f066e99c-e81f-4443-ab62-b4f67c2cd059",
   "metadata": {},
   "outputs": [
    {
     "data": {
      "text/plain": [
       "array([0.26882077])"
      ]
     },
     "execution_count": 38,
     "metadata": {},
     "output_type": "execute_result"
    }
   ],
   "source": [
    "np.random.rand(1)"
   ]
  },
  {
   "cell_type": "code",
   "execution_count": 40,
   "id": "af5b3a14-5733-4810-b3db-8ebded4030a1",
   "metadata": {},
   "outputs": [
    {
     "data": {
      "text/plain": [
       "array([[0.94459993, 0.71490558, 0.58910042, 0.69408507],\n",
       "       [0.39436261, 0.27157342, 0.72598746, 0.96538816],\n",
       "       [0.35945469, 0.3448795 , 0.63310174, 0.72300876]])"
      ]
     },
     "execution_count": 40,
     "metadata": {},
     "output_type": "execute_result"
    }
   ],
   "source": [
    "np.random.rand(3,4)"
   ]
  },
  {
   "cell_type": "code",
   "execution_count": 43,
   "id": "451d9df5-e354-45fe-9585-8540ce3e44d3",
   "metadata": {},
   "outputs": [
    {
     "data": {
      "text/plain": [
       "array([-0.72509175, -0.42549083, -0.17862745, -0.80210979, -1.28956496,\n",
       "       -1.04778558, -0.12255598,  0.20354896, -1.56867974,  0.04528769])"
      ]
     },
     "execution_count": 43,
     "metadata": {},
     "output_type": "execute_result"
    }
   ],
   "source": [
    "np.random.randn(10)\n",
    "\n",
    "# standard normal distribution"
   ]
  },
  {
   "cell_type": "code",
   "execution_count": 42,
   "id": "434778c4-e868-47d7-9865-1233ac68ca75",
   "metadata": {},
   "outputs": [
    {
     "data": {
      "text/plain": [
       "array([[-0.93515351, -0.44630445],\n",
       "       [ 0.38945514,  0.28380677],\n",
       "       [ 0.86354377,  0.82538767],\n",
       "       [-0.30843182, -1.6588732 ],\n",
       "       [-0.98568309,  0.6903787 ]])"
      ]
     },
     "execution_count": 42,
     "metadata": {},
     "output_type": "execute_result"
    }
   ],
   "source": [
    "np.random.randn(5,2)"
   ]
  },
  {
   "cell_type": "code",
   "execution_count": 44,
   "id": "0886c606-7aff-45ec-8d3d-3ba767e7618e",
   "metadata": {},
   "outputs": [
    {
     "data": {
      "text/plain": [
       "array([39, 66, 91, 80, 90])"
      ]
     },
     "execution_count": 44,
     "metadata": {},
     "output_type": "execute_result"
    }
   ],
   "source": [
    "np.random.randint(0,100,5)"
   ]
  },
  {
   "cell_type": "code",
   "execution_count": 45,
   "id": "b855aba2-9fe6-4192-88ea-eb5915a871f1",
   "metadata": {},
   "outputs": [
    {
     "data": {
      "text/plain": [
       "array([[94, 24, 18, 24, 23],\n",
       "       [90, 25, 84, 84,  6],\n",
       "       [24, 45, 71, 95, 29],\n",
       "       [65, 39, 34, 13, 68]])"
      ]
     },
     "execution_count": 45,
     "metadata": {},
     "output_type": "execute_result"
    }
   ],
   "source": [
    "np.random.randint(0,100,(4,5))"
   ]
  },
  {
   "cell_type": "code",
   "execution_count": 46,
   "id": "147011c9-b3f1-4e30-913d-432fa6714967",
   "metadata": {},
   "outputs": [
    {
     "data": {
      "text/plain": [
       "array([0.37454012, 0.95071431, 0.73199394, 0.59865848])"
      ]
     },
     "execution_count": 46,
     "metadata": {},
     "output_type": "execute_result"
    }
   ],
   "source": [
    "np.random.seed(42)\n",
    "np.random.rand(4)"
   ]
  },
  {
   "cell_type": "code",
   "execution_count": 47,
   "id": "7babe157-fc94-487a-8568-d6eb4cbceffb",
   "metadata": {},
   "outputs": [],
   "source": [
    "arr = np.arange(0,24)"
   ]
  },
  {
   "cell_type": "code",
   "execution_count": 48,
   "id": "d2a976da-3178-42af-8be0-0d1fa27934bd",
   "metadata": {},
   "outputs": [
    {
     "data": {
      "text/plain": [
       "array([ 0,  1,  2,  3,  4,  5,  6,  7,  8,  9, 10, 11, 12, 13, 14, 15, 16,\n",
       "       17, 18, 19, 20, 21, 22, 23])"
      ]
     },
     "execution_count": 48,
     "metadata": {},
     "output_type": "execute_result"
    }
   ],
   "source": [
    "arr"
   ]
  },
  {
   "cell_type": "code",
   "execution_count": 49,
   "id": "89374654-d7ef-4c95-9e46-7ea340786481",
   "metadata": {},
   "outputs": [
    {
     "data": {
      "text/plain": [
       "array([[ 0,  1,  2,  3,  4,  5],\n",
       "       [ 6,  7,  8,  9, 10, 11],\n",
       "       [12, 13, 14, 15, 16, 17],\n",
       "       [18, 19, 20, 21, 22, 23]])"
      ]
     },
     "execution_count": 49,
     "metadata": {},
     "output_type": "execute_result"
    }
   ],
   "source": [
    "arr.reshape(4,6)"
   ]
  },
  {
   "cell_type": "code",
   "execution_count": 51,
   "id": "716c3dba-34fc-4326-87f1-fb19132ab3cc",
   "metadata": {},
   "outputs": [],
   "source": [
    "randArr = np.random.randint(0,100,10)"
   ]
  },
  {
   "cell_type": "code",
   "execution_count": 52,
   "id": "0f3a0f9a-0168-4632-ab89-1beec3946314",
   "metadata": {},
   "outputs": [
    {
     "data": {
      "text/plain": [
       "array([ 1, 87, 29, 37,  1, 63, 59, 20, 32, 75])"
      ]
     },
     "execution_count": 52,
     "metadata": {},
     "output_type": "execute_result"
    }
   ],
   "source": [
    "randArr"
   ]
  },
  {
   "cell_type": "code",
   "execution_count": 53,
   "id": "9edfb76c-ac6c-493c-97e8-2ba276a4fd25",
   "metadata": {},
   "outputs": [
    {
     "data": {
      "text/plain": [
       "87"
      ]
     },
     "execution_count": 53,
     "metadata": {},
     "output_type": "execute_result"
    }
   ],
   "source": [
    "randArr.max()"
   ]
  },
  {
   "cell_type": "code",
   "execution_count": 54,
   "id": "eb0bf14a-4f25-40d4-baa2-fc632ff7cc60",
   "metadata": {},
   "outputs": [
    {
     "data": {
      "text/plain": [
       "1"
      ]
     },
     "execution_count": 54,
     "metadata": {},
     "output_type": "execute_result"
    }
   ],
   "source": [
    "randArr.min()"
   ]
  },
  {
   "cell_type": "code",
   "execution_count": 55,
   "id": "a30977dc-068f-454e-ba5c-4952be27a7ed",
   "metadata": {},
   "outputs": [
    {
     "data": {
      "text/plain": [
       "1"
      ]
     },
     "execution_count": 55,
     "metadata": {},
     "output_type": "execute_result"
    }
   ],
   "source": [
    "randArr.argmax()\n",
    "\n",
    "# index of the max in array"
   ]
  },
  {
   "cell_type": "code",
   "execution_count": 57,
   "id": "fb77cc4d-f0a4-4ac0-99c7-d1f3d5f4a411",
   "metadata": {},
   "outputs": [
    {
     "data": {
      "text/plain": [
       "0"
      ]
     },
     "execution_count": 57,
     "metadata": {},
     "output_type": "execute_result"
    }
   ],
   "source": [
    "randArr.argmin()\n",
    "\n",
    "# index of the min in array"
   ]
  },
  {
   "cell_type": "code",
   "execution_count": 58,
   "id": "ea03b6ef-f117-4dfe-afa5-35c1a08aaae3",
   "metadata": {},
   "outputs": [
    {
     "data": {
      "text/plain": [
       "array([ 0,  1,  2,  3,  4,  5,  6,  7,  8,  9, 10, 11, 12, 13, 14, 15, 16,\n",
       "       17, 18, 19, 20, 21, 22, 23])"
      ]
     },
     "execution_count": 58,
     "metadata": {},
     "output_type": "execute_result"
    }
   ],
   "source": [
    "arr"
   ]
  },
  {
   "cell_type": "code",
   "execution_count": 59,
   "id": "ebdd047d-4ec1-4e48-99c6-5361f2bbbeb9",
   "metadata": {},
   "outputs": [
    {
     "data": {
      "text/plain": [
       "(24,)"
      ]
     },
     "execution_count": 59,
     "metadata": {},
     "output_type": "execute_result"
    }
   ],
   "source": [
    "arr.shape"
   ]
  },
  {
   "cell_type": "code",
   "execution_count": 65,
   "id": "7def614e-f7ac-4332-903e-7cf0b8adbedc",
   "metadata": {},
   "outputs": [],
   "source": [
    "arr = arr.reshape(6,4)"
   ]
  },
  {
   "cell_type": "code",
   "execution_count": 66,
   "id": "c2cac227-4231-4514-b439-ec6d14ac31d7",
   "metadata": {},
   "outputs": [
    {
     "data": {
      "text/plain": [
       "array([[ 0,  1,  2,  3],\n",
       "       [ 4,  5,  6,  7],\n",
       "       [ 8,  9, 10, 11],\n",
       "       [12, 13, 14, 15],\n",
       "       [16, 17, 18, 19],\n",
       "       [20, 21, 22, 23]])"
      ]
     },
     "execution_count": 66,
     "metadata": {},
     "output_type": "execute_result"
    }
   ],
   "source": [
    "arr"
   ]
  },
  {
   "cell_type": "code",
   "execution_count": 67,
   "id": "8c2ce067-4454-4c9e-9a57-c598d51932be",
   "metadata": {},
   "outputs": [
    {
     "data": {
      "text/plain": [
       "(6, 4)"
      ]
     },
     "execution_count": 67,
     "metadata": {},
     "output_type": "execute_result"
    }
   ],
   "source": [
    "arr.shape"
   ]
  },
  {
   "cell_type": "code",
   "execution_count": null,
   "id": "61e2c69e-95ea-4478-900c-61edb232b839",
   "metadata": {},
   "outputs": [],
   "source": []
  }
 ],
 "metadata": {
  "kernelspec": {
   "display_name": "Python 3 (ipykernel)",
   "language": "python",
   "name": "python3"
  },
  "language_info": {
   "codemirror_mode": {
    "name": "ipython",
    "version": 3
   },
   "file_extension": ".py",
   "mimetype": "text/x-python",
   "name": "python",
   "nbconvert_exporter": "python",
   "pygments_lexer": "ipython3",
   "version": "3.11.7"
  }
 },
 "nbformat": 4,
 "nbformat_minor": 5
}
